{
 "cells": [
  {
   "cell_type": "code",
   "execution_count": 2,
   "metadata": {
    "collapsed": true
   },
   "outputs": [
    {
     "name": "stderr",
     "output_type": "stream",
     "text": [
      "WARNING: You are using pip version 19.2.3, however version 20.2.4 is available.\n",
      "You should consider upgrading via the 'python -m pip install --upgrade pip' command.\n"
     ]
    },
    {
     "name": "stdout",
     "output_type": "stream",
     "text": [
      "Requirement already satisfied: requests in c:\\users\\beeta\\appdata\\local\\programs\\python\\python38\\lib\\site-packages (2.24.0)\n",
      "Requirement already satisfied: pandas in c:\\users\\beeta\\appdata\\local\\programs\\python\\python38\\lib\\site-packages (1.1.3)\n",
      "Requirement already satisfied: sklearn in c:\\users\\beeta\\appdata\\local\\programs\\python\\python38\\lib\\site-packages (0.0)\n",
      "Requirement already satisfied: matplotlib in c:\\users\\beeta\\appdata\\local\\programs\\python\\python38\\lib\\site-packages (3.3.2)\n",
      "Collecting sktime\n",
      "  Downloading https://files.pythonhosted.org/packages/88/ac/30b11bff6bbe75beeb2f35786dbd77d6ff84bb18415a2f9fd81cfc14264d/sktime-0.4.3-cp38-cp38-win_amd64.whl (4.3MB)\n",
      "Requirement already satisfied: urllib3!=1.25.0,!=1.25.1,<1.26,>=1.21.1 in c:\\users\\beeta\\appdata\\local\\programs\\python\\python38\\lib\\site-packages (from requests) (1.25.10)\n",
      "Requirement already satisfied: chardet<4,>=3.0.2 in c:\\users\\beeta\\appdata\\local\\programs\\python\\python38\\lib\\site-packages (from requests) (3.0.4)\n",
      "Requirement already satisfied: idna<3,>=2.5 in c:\\users\\beeta\\appdata\\local\\programs\\python\\python38\\lib\\site-packages (from requests) (2.10)\n",
      "Requirement already satisfied: certifi>=2017.4.17 in c:\\users\\beeta\\appdata\\local\\programs\\python\\python38\\lib\\site-packages (from requests) (2020.6.20)\n",
      "Requirement already satisfied: pytz>=2017.2 in c:\\users\\beeta\\appdata\\local\\programs\\python\\python38\\lib\\site-packages (from pandas) (2020.1)\n",
      "Requirement already satisfied: numpy>=1.15.4 in c:\\users\\beeta\\appdata\\local\\programs\\python\\python38\\lib\\site-packages (from pandas) (1.19.2)\n",
      "Requirement already satisfied: python-dateutil>=2.7.3 in c:\\users\\beeta\\appdata\\local\\programs\\python\\python38\\lib\\site-packages (from pandas) (2.8.1)\n",
      "Requirement already satisfied: scikit-learn in c:\\users\\beeta\\appdata\\local\\programs\\python\\python38\\lib\\site-packages (from sklearn) (0.23.2)\n",
      "Requirement already satisfied: kiwisolver>=1.0.1 in c:\\users\\beeta\\appdata\\local\\programs\\python\\python38\\lib\\site-packages (from matplotlib) (1.2.0)\n",
      "Requirement already satisfied: pillow>=6.2.0 in c:\\users\\beeta\\appdata\\local\\programs\\python\\python38\\lib\\site-packages (from matplotlib) (8.0.0)\n",
      "Requirement already satisfied: pyparsing!=2.0.4,!=2.1.2,!=2.1.6,>=2.0.3 in c:\\users\\beeta\\appdata\\local\\programs\\python\\python38\\lib\\site-packages (from matplotlib) (2.4.7)\n",
      "Requirement already satisfied: cycler>=0.10 in c:\\users\\beeta\\appdata\\local\\programs\\python\\python38\\lib\\site-packages (from matplotlib) (0.10.0)\n",
      "Collecting wheel (from sktime)\n",
      "  Downloading https://files.pythonhosted.org/packages/a7/00/3df031b3ecd5444d572141321537080b40c1c25e1caa3d86cdd12e5e919c/wheel-0.35.1-py2.py3-none-any.whl\n",
      "Collecting statsmodels>=0.12.0 (from sktime)\n",
      "  Downloading https://files.pythonhosted.org/packages/37/22/959fdc710b6b384ad21a876130000557163978880dc50e16ba5d4ce35c18/statsmodels-0.12.0-cp38-none-win_amd64.whl (9.2MB)\n",
      "Requirement already satisfied: six>=1.5 in c:\\users\\beeta\\appdata\\local\\programs\\python\\python38\\lib\\site-packages (from python-dateutil>=2.7.3->pandas) (1.15.0)\n",
      "Requirement already satisfied: threadpoolctl>=2.0.0 in c:\\users\\beeta\\appdata\\local\\programs\\python\\python38\\lib\\site-packages (from scikit-learn->sklearn) (2.1.0)\n",
      "Requirement already satisfied: scipy>=0.19.1 in c:\\users\\beeta\\appdata\\local\\programs\\python\\python38\\lib\\site-packages (from scikit-learn->sklearn) (1.5.2)\n",
      "Requirement already satisfied: joblib>=0.11 in c:\\users\\beeta\\appdata\\local\\programs\\python\\python38\\lib\\site-packages (from scikit-learn->sklearn) (0.17.0)\n",
      "Collecting patsy>=0.5 (from statsmodels>=0.12.0->sktime)\n",
      "  Downloading https://files.pythonhosted.org/packages/ea/0c/5f61f1a3d4385d6bf83b83ea495068857ff8dfb89e74824c6e9eb63286d8/patsy-0.5.1-py2.py3-none-any.whl (231kB)\n",
      "Installing collected packages: wheel, patsy, statsmodels, sktime\n",
      "Successfully installed patsy-0.5.1 sktime-0.4.3 statsmodels-0.12.0 wheel-0.35.1\n"
     ]
    }
   ],
   "source": [
    "# # Install a pip package in the current Jupyter kernel\n",
    "# import sys\n",
    "# !{sys.executable} -m pip install requests pandas sklearn matplotlib sktime"
   ]
  },
  {
   "cell_type": "code",
   "execution_count": 35,
   "metadata": {},
   "outputs": [],
   "source": [
    "input_path = \"./active-cases-canada.csv\""
   ]
  },
  {
   "cell_type": "code",
   "execution_count": 2,
   "metadata": {},
   "outputs": [],
   "source": [
    "# general helpers\n",
    "import pandas as pd\n",
    "pd.set_option('display.max_rows', 500)\n",
    "import numpy as np\n",
    "import matplotlib.pyplot as plt\n",
    "# sktime util functions\n",
    "from sktime.forecasting.model_selection import temporal_train_test_split\n",
    "from sktime.performance_metrics.forecasting import smape_loss\n",
    "# regression functions\n",
    "from sktime.forecasting.compose import ReducedRegressionForecaster\n",
    "from sklearn.linear_model import LinearRegression"
   ]
  },
  {
   "cell_type": "code",
   "execution_count": 36,
   "metadata": {},
   "outputs": [],
   "source": [
    "covid_data = pd.read_csv(input_path,index_col=0)"
   ]
  },
  {
   "cell_type": "code",
   "execution_count": 4,
   "metadata": {},
   "outputs": [
    {
     "name": "stdout",
     "output_type": "stream",
     "text": [
      "Index(['pruid', 'prname', 'prnameFR', 'date', 'numconf', 'numprob',\n",
      "       'numdeaths', 'numtotal', 'numtested', 'numrecover', 'percentrecover',\n",
      "       'ratetested', 'numtoday', 'percentoday', 'ratetotal', 'ratedeaths',\n",
      "       'numdeathstoday', 'percentdeath', 'numtestedtoday', 'numrecoveredtoday',\n",
      "       'percentactive', 'numactive', 'rateactive', 'numtotal_last14',\n",
      "       'ratetotal_last14', 'numdeaths_last14', 'ratedeaths_last14',\n",
      "       'avgtotal_last7', 'avgincidence_last7', 'avgdeaths_last7',\n",
      "       'avgratedeaths_last7'],\n",
      "      dtype='object')\n"
     ]
    }
   ],
   "source": [
    "print(covid_data.columns)"
   ]
  },
  {
   "cell_type": "code",
   "execution_count": 4,
   "metadata": {
    "collapsed": true
   },
   "outputs": [
    {
     "ename": "KeyError",
     "evalue": "'prname'",
     "output_type": "error",
     "traceback": [
      "\u001b[1;31m---------------------------------------------------------------------------\u001b[0m",
      "\u001b[1;31mKeyError\u001b[0m                                  Traceback (most recent call last)",
      "\u001b[1;32mc:\\users\\beeta\\appdata\\local\\programs\\python\\python38\\lib\\site-packages\\pandas\\core\\indexes\\base.py\u001b[0m in \u001b[0;36mget_loc\u001b[1;34m(self, key, method, tolerance)\u001b[0m\n\u001b[0;32m   2894\u001b[0m             \u001b[1;32mtry\u001b[0m\u001b[1;33m:\u001b[0m\u001b[1;33m\u001b[0m\u001b[1;33m\u001b[0m\u001b[0m\n\u001b[1;32m-> 2895\u001b[1;33m                 \u001b[1;32mreturn\u001b[0m \u001b[0mself\u001b[0m\u001b[1;33m.\u001b[0m\u001b[0m_engine\u001b[0m\u001b[1;33m.\u001b[0m\u001b[0mget_loc\u001b[0m\u001b[1;33m(\u001b[0m\u001b[0mcasted_key\u001b[0m\u001b[1;33m)\u001b[0m\u001b[1;33m\u001b[0m\u001b[1;33m\u001b[0m\u001b[0m\n\u001b[0m\u001b[0;32m   2896\u001b[0m             \u001b[1;32mexcept\u001b[0m \u001b[0mKeyError\u001b[0m \u001b[1;32mas\u001b[0m \u001b[0merr\u001b[0m\u001b[1;33m:\u001b[0m\u001b[1;33m\u001b[0m\u001b[1;33m\u001b[0m\u001b[0m\n",
      "\u001b[1;32mpandas\\_libs\\index.pyx\u001b[0m in \u001b[0;36mpandas._libs.index.IndexEngine.get_loc\u001b[1;34m()\u001b[0m\n",
      "\u001b[1;32mpandas\\_libs\\index.pyx\u001b[0m in \u001b[0;36mpandas._libs.index.IndexEngine.get_loc\u001b[1;34m()\u001b[0m\n",
      "\u001b[1;32mpandas\\_libs\\hashtable_class_helper.pxi\u001b[0m in \u001b[0;36mpandas._libs.hashtable.PyObjectHashTable.get_item\u001b[1;34m()\u001b[0m\n",
      "\u001b[1;32mpandas\\_libs\\hashtable_class_helper.pxi\u001b[0m in \u001b[0;36mpandas._libs.hashtable.PyObjectHashTable.get_item\u001b[1;34m()\u001b[0m\n",
      "\u001b[1;31mKeyError\u001b[0m: 'prname'",
      "\nThe above exception was the direct cause of the following exception:\n",
      "\u001b[1;31mKeyError\u001b[0m                                  Traceback (most recent call last)",
      "\u001b[1;32m<ipython-input-4-67b2e7526b2b>\u001b[0m in \u001b[0;36m<module>\u001b[1;34m\u001b[0m\n\u001b[0;32m      1\u001b[0m \u001b[0mcols\u001b[0m \u001b[1;33m=\u001b[0m \u001b[1;33m[\u001b[0m\u001b[1;34m'date'\u001b[0m\u001b[1;33m,\u001b[0m \u001b[1;34m'numactive'\u001b[0m\u001b[1;33m]\u001b[0m\u001b[1;33m\u001b[0m\u001b[1;33m\u001b[0m\u001b[0m\n\u001b[1;32m----> 2\u001b[1;33m \u001b[0mcanada_data\u001b[0m \u001b[1;33m=\u001b[0m \u001b[0mcovid_data\u001b[0m\u001b[1;33m[\u001b[0m\u001b[0mcovid_data\u001b[0m\u001b[1;33m[\u001b[0m\u001b[1;34m'prname'\u001b[0m\u001b[1;33m]\u001b[0m \u001b[1;33m!=\u001b[0m \u001b[1;34m'Canada'\u001b[0m\u001b[1;33m]\u001b[0m\u001b[1;33m\u001b[0m\u001b[1;33m\u001b[0m\u001b[0m\n\u001b[0m\u001b[0;32m      3\u001b[0m \u001b[0mcanada_data\u001b[0m \u001b[1;33m=\u001b[0m \u001b[0mcanada_data\u001b[0m\u001b[1;33m[\u001b[0m\u001b[0mcanada_data\u001b[0m\u001b[1;33m[\u001b[0m\u001b[1;34m'prname'\u001b[0m\u001b[1;33m]\u001b[0m \u001b[1;33m!=\u001b[0m \u001b[1;34m'Quebec'\u001b[0m\u001b[1;33m]\u001b[0m\u001b[1;33m\u001b[0m\u001b[1;33m\u001b[0m\u001b[0m\n\u001b[0;32m      4\u001b[0m \u001b[0mprint\u001b[0m\u001b[1;33m(\u001b[0m\u001b[0mcanada_data\u001b[0m\u001b[1;33m[\u001b[0m\u001b[0mcols\u001b[0m\u001b[1;33m]\u001b[0m\u001b[1;33m)\u001b[0m\u001b[1;33m\u001b[0m\u001b[1;33m\u001b[0m\u001b[0m\n",
      "\u001b[1;32mc:\\users\\beeta\\appdata\\local\\programs\\python\\python38\\lib\\site-packages\\pandas\\core\\frame.py\u001b[0m in \u001b[0;36m__getitem__\u001b[1;34m(self, key)\u001b[0m\n\u001b[0;32m   2900\u001b[0m             \u001b[1;32mif\u001b[0m \u001b[0mself\u001b[0m\u001b[1;33m.\u001b[0m\u001b[0mcolumns\u001b[0m\u001b[1;33m.\u001b[0m\u001b[0mnlevels\u001b[0m \u001b[1;33m>\u001b[0m \u001b[1;36m1\u001b[0m\u001b[1;33m:\u001b[0m\u001b[1;33m\u001b[0m\u001b[1;33m\u001b[0m\u001b[0m\n\u001b[0;32m   2901\u001b[0m                 \u001b[1;32mreturn\u001b[0m \u001b[0mself\u001b[0m\u001b[1;33m.\u001b[0m\u001b[0m_getitem_multilevel\u001b[0m\u001b[1;33m(\u001b[0m\u001b[0mkey\u001b[0m\u001b[1;33m)\u001b[0m\u001b[1;33m\u001b[0m\u001b[1;33m\u001b[0m\u001b[0m\n\u001b[1;32m-> 2902\u001b[1;33m             \u001b[0mindexer\u001b[0m \u001b[1;33m=\u001b[0m \u001b[0mself\u001b[0m\u001b[1;33m.\u001b[0m\u001b[0mcolumns\u001b[0m\u001b[1;33m.\u001b[0m\u001b[0mget_loc\u001b[0m\u001b[1;33m(\u001b[0m\u001b[0mkey\u001b[0m\u001b[1;33m)\u001b[0m\u001b[1;33m\u001b[0m\u001b[1;33m\u001b[0m\u001b[0m\n\u001b[0m\u001b[0;32m   2903\u001b[0m             \u001b[1;32mif\u001b[0m \u001b[0mis_integer\u001b[0m\u001b[1;33m(\u001b[0m\u001b[0mindexer\u001b[0m\u001b[1;33m)\u001b[0m\u001b[1;33m:\u001b[0m\u001b[1;33m\u001b[0m\u001b[1;33m\u001b[0m\u001b[0m\n\u001b[0;32m   2904\u001b[0m                 \u001b[0mindexer\u001b[0m \u001b[1;33m=\u001b[0m \u001b[1;33m[\u001b[0m\u001b[0mindexer\u001b[0m\u001b[1;33m]\u001b[0m\u001b[1;33m\u001b[0m\u001b[1;33m\u001b[0m\u001b[0m\n",
      "\u001b[1;32mc:\\users\\beeta\\appdata\\local\\programs\\python\\python38\\lib\\site-packages\\pandas\\core\\indexes\\base.py\u001b[0m in \u001b[0;36mget_loc\u001b[1;34m(self, key, method, tolerance)\u001b[0m\n\u001b[0;32m   2895\u001b[0m                 \u001b[1;32mreturn\u001b[0m \u001b[0mself\u001b[0m\u001b[1;33m.\u001b[0m\u001b[0m_engine\u001b[0m\u001b[1;33m.\u001b[0m\u001b[0mget_loc\u001b[0m\u001b[1;33m(\u001b[0m\u001b[0mcasted_key\u001b[0m\u001b[1;33m)\u001b[0m\u001b[1;33m\u001b[0m\u001b[1;33m\u001b[0m\u001b[0m\n\u001b[0;32m   2896\u001b[0m             \u001b[1;32mexcept\u001b[0m \u001b[0mKeyError\u001b[0m \u001b[1;32mas\u001b[0m \u001b[0merr\u001b[0m\u001b[1;33m:\u001b[0m\u001b[1;33m\u001b[0m\u001b[1;33m\u001b[0m\u001b[0m\n\u001b[1;32m-> 2897\u001b[1;33m                 \u001b[1;32mraise\u001b[0m \u001b[0mKeyError\u001b[0m\u001b[1;33m(\u001b[0m\u001b[0mkey\u001b[0m\u001b[1;33m)\u001b[0m \u001b[1;32mfrom\u001b[0m \u001b[0merr\u001b[0m\u001b[1;33m\u001b[0m\u001b[1;33m\u001b[0m\u001b[0m\n\u001b[0m\u001b[0;32m   2898\u001b[0m \u001b[1;33m\u001b[0m\u001b[0m\n\u001b[0;32m   2899\u001b[0m         \u001b[1;32mif\u001b[0m \u001b[0mtolerance\u001b[0m \u001b[1;32mis\u001b[0m \u001b[1;32mnot\u001b[0m \u001b[1;32mNone\u001b[0m\u001b[1;33m:\u001b[0m\u001b[1;33m\u001b[0m\u001b[1;33m\u001b[0m\u001b[0m\n",
      "\u001b[1;31mKeyError\u001b[0m: 'prname'"
     ]
    }
   ],
   "source": [
    "cols = ['date', 'numactive']\n",
    "canada_data = covid_data[covid_data['prname'] != 'Canada']\n",
    "canada_data = canada_data[canada_data['prname'] != 'Quebec']\n",
    "print(canada_data[cols])"
   ]
  },
  {
   "cell_type": "code",
   "execution_count": 32,
   "metadata": {
    "scrolled": true
   },
   "outputs": [],
   "source": [
    "# test_data = canada_data[cols].groupby('date').sum()\n",
    "# test_data = test_data['numactive']\n",
    "# all_dates = pd.date_range('2020-01-31', '2020-10-25')\n",
    "# test_data.index = pd.to_datetime(test_data.index)\n",
    "# test_data = test_data.reindex(all_dates, fill_value=0)#.reset_index(drop=True)\n",
    "\n",
    "# for i,v in test_data.items():\n",
    "#     if v == 0:\n",
    "#         test_data[i] = nnz\n",
    "#     else:\n",
    "#         nnz = v\n",
    "        \n",
    "# test_data.to_csv('./active-cases-no-Quebec.csv')"
   ]
  },
  {
   "cell_type": "code",
   "execution_count": 10,
   "metadata": {},
   "outputs": [],
   "source": [
    "# fill in missing dates with closest day with cases\n",
    "# mock = canada_data.set_index('date')['numactive']\n",
    "# all_dates = pd.date_range('2020-01-31', '2020-10-25')\n",
    "# mock.index = pd.to_datetime(mock.index)\n",
    "# mock = mock.reindex(all_dates, fill_value=0)#.reset_index(drop=True)\n",
    "\n",
    "# for i,v in mock.items():\n",
    "#     if v == 0:\n",
    "#         mock[i] = nnz\n",
    "#     else:\n",
    "#         nnz = v\n",
    "\n",
    "# # upate test data\n",
    "# test_data = mock\n",
    "# test_data.to_csv('./active-cases-canada.csv')"
   ]
  },
  {
   "cell_type": "code",
   "execution_count": 37,
   "metadata": {},
   "outputs": [
    {
     "data": {
      "text/plain": [
       "0          4.0\n",
       "1          4.0\n",
       "2          4.0\n",
       "3          4.0\n",
       "4          4.0\n",
       "5          4.0\n",
       "6          4.0\n",
       "7          4.0\n",
       "8          7.0\n",
       "9          7.0\n",
       "10         7.0\n",
       "11         7.0\n",
       "12         7.0\n",
       "13         7.0\n",
       "14         7.0\n",
       "15         7.0\n",
       "16         8.0\n",
       "17         8.0\n",
       "18         8.0\n",
       "19         8.0\n",
       "20         8.0\n",
       "21         9.0\n",
       "22         9.0\n",
       "23         9.0\n",
       "24        10.0\n",
       "25        11.0\n",
       "26        12.0\n",
       "27        13.0\n",
       "28        13.0\n",
       "29        15.0\n",
       "30        24.0\n",
       "31        24.0\n",
       "32        33.0\n",
       "33        33.0\n",
       "34        45.0\n",
       "35        51.0\n",
       "36        57.0\n",
       "37        61.0\n",
       "38        76.0\n",
       "39        76.0\n",
       "40       101.0\n",
       "41       139.0\n",
       "42       177.0\n",
       "43       197.0\n",
       "44       251.0\n",
       "45       336.0\n",
       "46       432.0\n",
       "47       588.0\n",
       "48       861.0\n",
       "49       991.0\n",
       "50      1353.0\n",
       "51      1451.0\n",
       "52      2067.0\n",
       "53      2765.0\n",
       "54      3374.0\n",
       "55      3774.0\n",
       "56      4380.0\n",
       "57      4864.0\n",
       "58      5675.0\n",
       "59      6280.0\n",
       "60      7198.0\n",
       "61      7951.0\n",
       "62      9162.0\n",
       "63     12350.0\n",
       "64     13673.0\n",
       "65     12897.0\n",
       "66     12728.0\n",
       "67     17517.0\n",
       "68     18854.0\n",
       "69     20256.0\n",
       "70     21579.0\n",
       "71     22665.0\n",
       "72     23666.0\n",
       "73     24900.0\n",
       "74     26160.0\n",
       "75     27371.0\n",
       "76     28899.0\n",
       "77     30575.0\n",
       "78     20709.0\n",
       "79     21420.0\n",
       "80     22556.0\n",
       "81     23400.0\n",
       "82     24230.0\n",
       "83     25203.0\n",
       "84     26045.0\n",
       "85     26464.0\n",
       "86     27014.0\n",
       "87     27525.0\n",
       "88     27936.0\n",
       "89     28274.0\n",
       "90     28628.0\n",
       "91     28919.0\n",
       "92     29347.0\n",
       "93     30884.0\n",
       "94     30901.0\n",
       "95     31010.0\n",
       "96     31093.0\n",
       "97     31267.0\n",
       "98     31639.0\n",
       "99     31760.0\n",
       "100    31881.0\n",
       "101    31994.0\n",
       "102    31946.0\n",
       "103    31810.0\n",
       "104    31925.0\n",
       "105    32156.0\n",
       "106    32366.0\n",
       "107    32670.0\n",
       "108    32992.0\n",
       "109    33150.0\n",
       "110    33400.0\n",
       "111    33444.0\n",
       "112    33623.0\n",
       "113    33948.0\n",
       "114    34277.0\n",
       "115    34515.0\n",
       "116    34656.0\n",
       "117    34577.0\n",
       "118    34782.0\n",
       "119    34906.0\n",
       "120    35001.0\n",
       "121    34760.0\n",
       "122    34640.0\n",
       "123    34658.0\n",
       "124    34539.0\n",
       "125    34350.0\n",
       "126    34064.0\n",
       "127    33670.0\n",
       "128    33666.0\n",
       "129    33576.0\n",
       "130    33184.0\n",
       "131    32526.0\n",
       "132    31878.0\n",
       "133    31371.0\n",
       "134    30949.0\n",
       "135    30369.0\n",
       "136    29930.0\n",
       "137    29811.0\n",
       "138    29582.0\n",
       "139    29424.0\n",
       "140    29280.0\n",
       "141    29121.0\n",
       "142    29021.0\n",
       "143    28867.0\n",
       "144    28805.0\n",
       "145    28667.0\n",
       "146    28693.0\n",
       "147    28560.0\n",
       "148    28543.0\n",
       "149    28537.0\n",
       "150    28174.0\n",
       "151    28019.0\n",
       "152    28019.0\n",
       "153    27784.0\n",
       "154    27734.0\n",
       "155    27652.0\n",
       "156    27612.0\n",
       "157    27671.0\n",
       "158    27572.0\n",
       "159    27449.0\n",
       "160    27481.0\n",
       "161    27465.0\n",
       "162    27307.0\n",
       "163    27340.0\n",
       "164    27524.0\n",
       "165    27518.0\n",
       "166    27532.0\n",
       "167    27601.0\n",
       "168     4141.0\n",
       "169     4237.0\n",
       "170     4435.0\n",
       "171     4792.0\n",
       "172     5078.0\n",
       "173     5228.0\n",
       "174     5279.0\n",
       "175     5452.0\n",
       "176     5556.0\n",
       "177     5666.0\n",
       "178     5836.0\n",
       "179     5948.0\n",
       "180     6022.0\n",
       "181     6008.0\n",
       "182     6150.0\n",
       "183     6222.0\n",
       "184     6365.0\n",
       "185     6487.0\n",
       "186     6384.0\n",
       "187     6437.0\n",
       "188     6489.0\n",
       "189     6580.0\n",
       "190     6679.0\n",
       "191     6742.0\n",
       "192     4790.0\n",
       "193     4684.0\n",
       "194     4690.0\n",
       "195     4666.0\n",
       "196     4690.0\n",
       "197     4648.0\n",
       "198     4577.0\n",
       "199     4781.0\n",
       "200     4753.0\n",
       "201     4619.0\n",
       "202     4531.0\n",
       "203     4660.0\n",
       "204     4680.0\n",
       "205     4711.0\n",
       "206     4870.0\n",
       "207     4829.0\n",
       "208     4868.0\n",
       "209     4891.0\n",
       "210     4963.0\n",
       "211     5059.0\n",
       "212     5159.0\n",
       "213     5604.0\n",
       "214     5686.0\n",
       "215     5738.0\n",
       "216     5908.0\n",
       "217     6057.0\n",
       "218     6216.0\n",
       "219     6393.0\n",
       "220     6537.0\n",
       "221     7030.0\n",
       "222     6868.0\n",
       "223     6771.0\n",
       "224     6789.0\n",
       "225     6896.0\n",
       "226     7057.0\n",
       "227     7607.0\n",
       "228     7775.0\n",
       "229     8105.0\n",
       "230     8558.0\n",
       "231     8983.0\n",
       "232     9376.0\n",
       "233     9741.0\n",
       "234    10653.0\n",
       "235    10525.0\n",
       "236    10722.0\n",
       "237    11138.0\n",
       "238    11628.0\n",
       "239    12081.0\n",
       "240    12759.0\n",
       "241    13416.0\n",
       "242    13933.0\n",
       "243    14490.0\n",
       "244    14866.0\n",
       "245    15636.0\n",
       "246    16142.0\n",
       "247    16432.0\n",
       "248    17122.0\n",
       "249    17799.0\n",
       "250    17916.0\n",
       "251    18494.0\n",
       "252    19008.0\n",
       "253    19214.0\n",
       "254    19032.0\n",
       "255    18954.0\n",
       "256    19741.0\n",
       "257    20372.0\n",
       "258    20543.0\n",
       "259    20740.0\n",
       "260    21129.0\n",
       "261    21276.0\n",
       "262    21988.0\n",
       "263    22151.0\n",
       "264    22783.0\n",
       "265    23481.0\n",
       "266    23965.0\n",
       "267    24401.0\n",
       "268    24729.0\n",
       "Name: numactive, dtype: float64"
      ]
     },
     "execution_count": 37,
     "metadata": {},
     "output_type": "execute_result"
    }
   ],
   "source": [
    "test_data = covid_data['numactive'].reset_index(drop=True)\n",
    "test_data"
   ]
  },
  {
   "cell_type": "code",
   "execution_count": 15,
   "metadata": {},
   "outputs": [
    {
     "name": "stdout",
     "output_type": "stream",
     "text": [
      "(201,) (68,)\n"
     ]
    }
   ],
   "source": [
    "# Modeling with sktime\n",
    "y_train, y_test = temporal_train_test_split(test_data)\n",
    "print(y_train.shape, y_test.shape)"
   ]
  },
  {
   "cell_type": "code",
   "execution_count": 16,
   "metadata": {},
   "outputs": [
    {
     "data": {
      "text/plain": [
       "array([ 1,  2,  3,  4,  5,  6,  7,  8,  9, 10, 11, 12, 13, 14, 15, 16, 17,\n",
       "       18, 19, 20, 21, 22, 23, 24, 25, 26, 27, 28, 29, 30, 31, 32, 33, 34,\n",
       "       35, 36, 37, 38, 39, 40, 41, 42, 43, 44, 45, 46, 47, 48, 49, 50, 51,\n",
       "       52, 53, 54, 55, 56, 57, 58, 59, 60, 61, 62, 63, 64, 65, 66, 67, 68])"
      ]
     },
     "execution_count": 16,
     "metadata": {},
     "output_type": "execute_result"
    }
   ],
   "source": [
    "fh = np.arange(1, len(y_test) + 1)\n",
    "fh"
   ]
  },
  {
   "cell_type": "code",
   "execution_count": 17,
   "metadata": {},
   "outputs": [],
   "source": [
    "# Modeled using linear regression\n",
    "regressor = LinearRegression()\n",
    "forecaster = ReducedRegressionForecaster(regressor=regressor, window_length=3, strategy=\"recursive\")"
   ]
  },
  {
   "cell_type": "code",
   "execution_count": 18,
   "metadata": {},
   "outputs": [],
   "source": [
    "forecaster.fit(y_train)\n",
    "y_preds = forecaster.predict(fh)"
   ]
  },
  {
   "cell_type": "code",
   "execution_count": 19,
   "metadata": {},
   "outputs": [
    {
     "data": {
      "text/plain": [
       "0.5427706498494185"
      ]
     },
     "execution_count": 19,
     "metadata": {},
     "output_type": "execute_result"
    }
   ],
   "source": [
    "smape_loss(y_preds, y_test)"
   ]
  },
  {
   "cell_type": "code",
   "execution_count": 21,
   "metadata": {},
   "outputs": [
    {
     "data": {
      "text/plain": [
       "[<matplotlib.lines.Line2D at 0x23effd86070>]"
      ]
     },
     "execution_count": 21,
     "metadata": {},
     "output_type": "execute_result"
    },
    {
     "data": {
      "image/png": "[encoded data removed]",
      "text/plain": [
       "<Figure size 432x288 with 1 Axes>"
      ]
     },
     "metadata": {
      "needs_background": "light"
     },
     "output_type": "display_data"
    }
   ],
   "source": [
    "plt.plot(y_train)\n",
    "plt.plot(y_preds)\n",
    "plt.plot(y_test)"
   ]
  },
  {
   "cell_type": "code",
   "execution_count": 46,
   "metadata": {},
   "outputs": [
    {
     "name": "stdout",
     "output_type": "stream",
     "text": [
      "[[2.3400e+04 2.4230e+04 2.5203e+04 2.6045e+04]\n",
      " [2.7784e+04 2.7734e+04 2.7652e+04 2.7612e+04]\n",
      " [3.2670e+04 3.2992e+04 3.3150e+04 3.3400e+04]\n",
      " [3.3666e+04 3.3576e+04 3.3184e+04 3.2526e+04]\n",
      " [2.4230e+04 2.5203e+04 2.6045e+04 2.6464e+04]\n",
      " [2.7525e+04 2.7936e+04 2.8274e+04 2.8628e+04]\n",
      " [2.7014e+04 2.7525e+04 2.7936e+04 2.8274e+04]\n",
      " [7.7750e+03 8.1050e+03 8.5580e+03 8.9830e+03]\n",
      " [9.9100e+02 1.3530e+03 1.4510e+03 2.0670e+03]\n",
      " [2.7481e+04 2.7465e+04 2.7307e+04 2.7340e+04]\n",
      " [2.2783e+04 2.3481e+04 2.3965e+04 2.4401e+04]\n",
      " [6.4370e+03 6.4890e+03 6.5800e+03 6.6790e+03]\n",
      " [5.6660e+03 5.8360e+03 5.9480e+03 6.0220e+03]\n",
      " [4.0000e+00 4.0000e+00 4.0000e+00 4.0000e+00]\n",
      " [2.7650e+03 3.3740e+03 3.7740e+03 4.3800e+03]\n",
      " [2.7340e+04 2.7524e+04 2.7518e+04 2.7532e+04]\n",
      " [5.0590e+03 5.1590e+03 5.6040e+03 5.6860e+03]\n",
      " [2.7601e+04 4.1410e+03 4.2370e+03 4.4350e+03]\n",
      " [5.9480e+03 6.0220e+03 6.0080e+03 6.1500e+03]\n",
      " [8.0000e+00 8.0000e+00 9.0000e+00 9.0000e+00]\n",
      " [1.3933e+04 1.4490e+04 1.4866e+04 1.5636e+04]\n",
      " [3.1010e+04 3.1093e+04 3.1267e+04 3.1639e+04]\n",
      " [4.7530e+03 4.6190e+03 4.5310e+03 4.6600e+03]\n",
      " [1.9741e+04 2.0372e+04 2.0543e+04 2.0740e+04]\n",
      " [1.9700e+02 2.5100e+02 3.3600e+02 4.3200e+02]\n",
      " [7.0000e+00 7.0000e+00 7.0000e+00 7.0000e+00]\n",
      " [6.3650e+03 6.4870e+03 6.3840e+03 6.4370e+03]\n",
      " [2.6045e+04 2.6464e+04 2.7014e+04 2.7525e+04]\n",
      " [2.8693e+04 2.8560e+04 2.8543e+04 2.8537e+04]\n",
      " [2.4000e+01 3.3000e+01 3.3000e+01 4.5000e+01]\n",
      " [3.3670e+04 3.3666e+04 3.3576e+04 3.3184e+04]\n",
      " [4.3200e+02 5.8800e+02 8.6100e+02 9.9100e+02]\n",
      " [1.9008e+04 1.9214e+04 1.9032e+04 1.8954e+04]\n",
      " [8.9830e+03 9.3760e+03 9.7410e+03 1.0653e+04]\n",
      " [1.3000e+01 1.3000e+01 1.5000e+01 2.4000e+01]\n",
      " [6.4890e+03 6.5800e+03 6.6790e+03 6.7420e+03]\n",
      " [2.6464e+04 2.7014e+04 2.7525e+04 2.7936e+04]\n",
      " [2.4900e+04 2.6160e+04 2.7371e+04 2.8899e+04]\n",
      " [3.3444e+04 3.3623e+04 3.3948e+04 3.4277e+04]\n",
      " [6.0220e+03 6.0080e+03 6.1500e+03 6.2220e+03]\n",
      " [1.0722e+04 1.1138e+04 1.1628e+04 1.2081e+04]\n",
      " [9.1620e+03 1.2350e+04 1.3673e+04 1.2897e+04]\n",
      " [8.6100e+02 9.9100e+02 1.3530e+03 1.4510e+03]\n",
      " [4.8910e+03 4.9630e+03 5.0590e+03 5.1590e+03]\n",
      " [2.4000e+01 2.4000e+01 3.3000e+01 3.3000e+01]\n",
      " [2.8667e+04 2.8693e+04 2.8560e+04 2.8543e+04]\n",
      " [7.0000e+00 7.0000e+00 7.0000e+00 7.0000e+00]\n",
      " [1.9214e+04 1.9032e+04 1.8954e+04 1.9741e+04]\n",
      " [1.2350e+04 1.3673e+04 1.2897e+04 1.2728e+04]\n",
      " [3.3740e+03 3.7740e+03 4.3800e+03 4.8640e+03]\n",
      " [1.4866e+04 1.5636e+04 1.6142e+04 1.6432e+04]\n",
      " [7.6000e+01 1.0100e+02 1.3900e+02 1.7700e+02]\n",
      " [4.8680e+03 4.8910e+03 4.9630e+03 5.0590e+03]\n",
      " [4.6800e+03 4.7110e+03 4.8700e+03 4.8290e+03]\n",
      " [5.2280e+03 5.2790e+03 5.4520e+03 5.5560e+03]\n",
      " [4.7920e+03 5.0780e+03 5.2280e+03 5.2790e+03]\n",
      " [8.5580e+03 8.9830e+03 9.3760e+03 9.7410e+03]\n",
      " [6.0080e+03 6.1500e+03 6.2220e+03 6.3650e+03]\n",
      " [1.7122e+04 1.7799e+04 1.7916e+04 1.8494e+04]\n",
      " [4.0000e+00 4.0000e+00 7.0000e+00 7.0000e+00]\n",
      " [1.1000e+01 1.2000e+01 1.3000e+01 1.3000e+01]\n",
      " [3.0884e+04 3.0901e+04 3.1010e+04 3.1093e+04]\n",
      " [4.6660e+03 4.6900e+03 4.6480e+03 4.5770e+03]\n",
      " [3.1925e+04 3.2156e+04 3.2366e+04 3.2670e+04]\n",
      " [7.0300e+03 6.8680e+03 6.7710e+03 6.7890e+03]\n",
      " [1.3530e+03 1.4510e+03 2.0670e+03 2.7650e+03]\n",
      " [3.3000e+01 3.3000e+01 4.5000e+01 5.1000e+01]\n",
      " [1.0525e+04 1.0722e+04 1.1138e+04 1.1628e+04]\n",
      " [3.4760e+04 3.4640e+04 3.4658e+04 3.4539e+04]\n",
      " [3.3000e+01 4.5000e+01 5.1000e+01 5.7000e+01]\n",
      " [3.2366e+04 3.2670e+04 3.2992e+04 3.3150e+04]\n",
      " [5.7000e+01 6.1000e+01 7.6000e+01 7.6000e+01]\n",
      " [8.0000e+00 9.0000e+00 9.0000e+00 9.0000e+00]\n",
      " [7.0000e+00 8.0000e+00 8.0000e+00 8.0000e+00]\n",
      " [4.0000e+00 4.0000e+00 4.0000e+00 7.0000e+00]\n",
      " [4.6600e+03 4.6800e+03 4.7110e+03 4.8700e+03]\n",
      " [2.2556e+04 2.3400e+04 2.4230e+04 2.5203e+04]\n",
      " [5.4520e+03 5.5560e+03 5.6660e+03 5.8360e+03]\n",
      " [3.4515e+04 3.4656e+04 3.4577e+04 3.4782e+04]\n",
      " [1.9032e+04 1.8954e+04 1.9741e+04 2.0372e+04]\n",
      " [3.1267e+04 3.1639e+04 3.1760e+04 3.1881e+04]\n",
      " [1.2897e+04 1.2728e+04 1.7517e+04 1.8854e+04]\n",
      " [3.2992e+04 3.3150e+04 3.3400e+04 3.3444e+04]\n",
      " [9.3760e+03 9.7410e+03 1.0653e+04 1.0525e+04]\n",
      " [2.1579e+04 2.2665e+04 2.3666e+04 2.4900e+04]\n",
      " [2.7449e+04 2.7481e+04 2.7465e+04 2.7307e+04]\n",
      " [2.8560e+04 2.8543e+04 2.8537e+04 2.8174e+04]\n",
      " [4.1410e+03 4.2370e+03 4.4350e+03 4.7920e+03]\n",
      " [1.3673e+04 1.2897e+04 1.2728e+04 1.7517e+04]\n",
      " [5.8800e+02 8.6100e+02 9.9100e+02 1.3530e+03]\n",
      " [3.0575e+04 2.0709e+04 2.1420e+04 2.2556e+04]\n",
      " [4.7110e+03 4.8700e+03 4.8290e+03 4.8680e+03]\n",
      " [3.0949e+04 3.0369e+04 2.9930e+04 2.9811e+04]\n",
      " [3.1371e+04 3.0949e+04 3.0369e+04 2.9930e+04]\n",
      " [1.7799e+04 1.7916e+04 1.8494e+04 1.9008e+04]\n",
      " [2.1420e+04 2.2556e+04 2.3400e+04 2.4230e+04]\n",
      " [2.8537e+04 2.8174e+04 2.8019e+04 2.8019e+04]\n",
      " [1.2728e+04 1.7517e+04 1.8854e+04 2.0256e+04]\n",
      " [4.0000e+00 4.0000e+00 4.0000e+00 4.0000e+00]\n",
      " [5.5560e+03 5.6660e+03 5.8360e+03 5.9480e+03]\n",
      " [2.0372e+04 2.0543e+04 2.0740e+04 2.1129e+04]\n",
      " [2.2151e+04 2.2783e+04 2.3481e+04 2.3965e+04]\n",
      " [3.3600e+02 4.3200e+02 5.8800e+02 8.6100e+02]\n",
      " [2.8543e+04 2.8537e+04 2.8174e+04 2.8019e+04]\n",
      " [2.1276e+04 2.1988e+04 2.2151e+04 2.2783e+04]\n",
      " [3.4640e+04 3.4658e+04 3.4539e+04 3.4350e+04]\n",
      " [2.9424e+04 2.9280e+04 2.9121e+04 2.9021e+04]\n",
      " [7.0000e+00 7.0000e+00 7.0000e+00 7.0000e+00]\n",
      " [2.3666e+04 2.4900e+04 2.6160e+04 2.7371e+04]\n",
      " [7.0000e+00 7.0000e+00 7.0000e+00 7.0000e+00]\n",
      " [6.3840e+03 6.4370e+03 6.4890e+03 6.5800e+03]\n",
      " [4.8290e+03 4.8680e+03 4.8910e+03 4.9630e+03]\n",
      " [1.8854e+04 2.0256e+04 2.1579e+04 2.2665e+04]\n",
      " [5.8360e+03 5.9480e+03 6.0220e+03 6.0080e+03]\n",
      " [9.0000e+00 9.0000e+00 9.0000e+00 1.0000e+01]\n",
      " [7.1980e+03 7.9510e+03 9.1620e+03 1.2350e+04]\n",
      " [2.0256e+04 2.1579e+04 2.2665e+04 2.3666e+04]\n",
      " [3.4782e+04 3.4906e+04 3.5001e+04 3.4760e+04]\n",
      " [6.2160e+03 6.3930e+03 6.5370e+03 7.0300e+03]\n",
      " [1.0000e+01 1.1000e+01 1.2000e+01 1.3000e+01]\n",
      " [1.0653e+04 1.0525e+04 1.0722e+04 1.1138e+04]\n",
      " [4.7900e+03 4.6840e+03 4.6900e+03 4.6660e+03]\n",
      " [2.7465e+04 2.7307e+04 2.7340e+04 2.7524e+04]\n",
      " [2.7572e+04 2.7449e+04 2.7481e+04 2.7465e+04]\n",
      " [4.5310e+03 4.6600e+03 4.6800e+03 4.7110e+03]\n",
      " [1.7916e+04 1.8494e+04 1.9008e+04 1.9214e+04]\n",
      " [1.1628e+04 1.2081e+04 1.2759e+04 1.3416e+04]\n",
      " [3.1994e+04 3.1946e+04 3.1810e+04 3.1925e+04]\n",
      " [3.1946e+04 3.1810e+04 3.1925e+04 3.2156e+04]\n",
      " [2.2665e+04 2.3666e+04 2.4900e+04 2.6160e+04]\n",
      " [3.1878e+04 3.1371e+04 3.0949e+04 3.0369e+04]\n",
      " [6.8680e+03 6.7710e+03 6.7890e+03 6.8960e+03]\n",
      " [8.0000e+00 8.0000e+00 8.0000e+00 8.0000e+00]\n",
      " [3.2526e+04 3.1878e+04 3.1371e+04 3.0949e+04]\n",
      " [6.1500e+03 6.2220e+03 6.3650e+03 6.4870e+03]\n",
      " [2.8899e+04 3.0575e+04 2.0709e+04 2.1420e+04]\n",
      " [6.7890e+03 6.8960e+03 7.0570e+03 7.6070e+03]\n",
      " [8.0000e+00 8.0000e+00 8.0000e+00 8.0000e+00]\n",
      " [2.8174e+04 2.8019e+04 2.8019e+04 2.7784e+04]\n",
      " [7.0000e+00 7.0000e+00 8.0000e+00 8.0000e+00]\n",
      " [3.0369e+04 2.9930e+04 2.9811e+04 2.9582e+04]\n",
      " [5.0780e+03 5.2280e+03 5.2790e+03 5.4520e+03]\n",
      " [7.9510e+03 9.1620e+03 1.2350e+04 1.3673e+04]\n",
      " [1.1138e+04 1.1628e+04 1.2081e+04 1.2759e+04]\n",
      " [5.6040e+03 5.6860e+03 5.7380e+03 5.9080e+03]\n",
      " [4.6190e+03 4.5310e+03 4.6600e+03 4.6800e+03]\n",
      " [1.4510e+03 2.0670e+03 2.7650e+03 3.3740e+03]\n",
      " [5.6860e+03 5.7380e+03 5.9080e+03 6.0570e+03]\n",
      " [4.5000e+01 5.1000e+01 5.7000e+01 6.1000e+01]\n",
      " [5.9080e+03 6.0570e+03 6.2160e+03 6.3930e+03]\n",
      " [6.7710e+03 6.7890e+03 6.8960e+03 7.0570e+03]\n",
      " [3.5001e+04 3.4760e+04 3.4640e+04 3.4658e+04]\n",
      " [2.9930e+04 2.9811e+04 2.9582e+04 2.9424e+04]\n",
      " [4.7810e+03 4.7530e+03 4.6190e+03 4.5310e+03]\n",
      " [3.1881e+04 3.1994e+04 3.1946e+04 3.1810e+04]\n",
      " [2.9021e+04 2.8867e+04 2.8805e+04 2.8667e+04]\n",
      " [2.8019e+04 2.7784e+04 2.7734e+04 2.7652e+04]\n",
      " [4.2370e+03 4.4350e+03 4.7920e+03 5.0780e+03]\n",
      " [8.0000e+00 8.0000e+00 8.0000e+00 9.0000e+00]\n",
      " [1.0100e+02 1.3900e+02 1.7700e+02 1.9700e+02]\n",
      " [3.0901e+04 3.1010e+04 3.1093e+04 3.1267e+04]\n",
      " [5.6750e+03 6.2800e+03 7.1980e+03 7.9510e+03]\n",
      " [2.7612e+04 2.7671e+04 2.7572e+04 2.7449e+04]\n",
      " [2.0709e+04 2.1420e+04 2.2556e+04 2.3400e+04]\n",
      " [1.2081e+04 1.2759e+04 1.3416e+04 1.3933e+04]\n",
      " [2.7307e+04 2.7340e+04 2.7524e+04 2.7518e+04]\n",
      " [2.7652e+04 2.7612e+04 2.7671e+04 2.7572e+04]\n",
      " [3.3948e+04 3.4277e+04 3.4515e+04 3.4656e+04]\n",
      " [4.6900e+03 4.6660e+03 4.6900e+03 4.6480e+03]\n",
      " [2.7734e+04 2.7652e+04 2.7612e+04 2.7671e+04]\n",
      " [4.6840e+03 4.6900e+03 4.6660e+03 4.6900e+03]\n",
      " [7.0000e+00 7.0000e+00 7.0000e+00 7.0000e+00]\n",
      " [1.5636e+04 1.6142e+04 1.6432e+04 1.7122e+04]\n",
      " [4.6480e+03 4.5770e+03 4.7810e+03 4.7530e+03]\n",
      " [2.9280e+04 2.9121e+04 2.9021e+04 2.8867e+04]\n",
      " [7.6000e+01 7.6000e+01 1.0100e+02 1.3900e+02]\n",
      " [9.7410e+03 1.0653e+04 1.0525e+04 1.0722e+04]\n",
      " [3.4277e+04 3.4515e+04 3.4656e+04 3.4577e+04]\n",
      " [1.8494e+04 1.9008e+04 1.9214e+04 1.9032e+04]\n",
      " [3.3184e+04 3.2526e+04 3.1878e+04 3.1371e+04]\n",
      " [4.5770e+03 4.7810e+03 4.7530e+03 4.6190e+03]\n",
      " [2.8019e+04 2.8019e+04 2.7784e+04 2.7734e+04]\n",
      " [2.0740e+04 2.1129e+04 2.1276e+04 2.1988e+04]\n",
      " [2.6160e+04 2.7371e+04 2.8899e+04 3.0575e+04]\n",
      " [6.8960e+03 7.0570e+03 7.6070e+03 7.7750e+03]\n",
      " [2.7518e+04 2.7532e+04 2.7601e+04 4.1410e+03]\n",
      " [4.9630e+03 5.0590e+03 5.1590e+03 5.6040e+03]\n",
      " [3.1639e+04 3.1760e+04 3.1881e+04 3.1994e+04]\n",
      " [8.1050e+03 8.5580e+03 8.9830e+03 9.3760e+03]\n",
      " [1.2759e+04 1.3416e+04 1.3933e+04 1.4490e+04]\n",
      " [2.0543e+04 2.0740e+04 2.1129e+04 2.1276e+04]\n",
      " [6.2800e+03 7.1980e+03 7.9510e+03 9.1620e+03]\n",
      " [7.6070e+03 7.7750e+03 8.1050e+03 8.5580e+03]\n",
      " [5.7380e+03 5.9080e+03 6.0570e+03 6.2160e+03]\n",
      " [6.5370e+03 7.0300e+03 6.8680e+03 6.7710e+03]\n",
      " [1.3000e+01 1.5000e+01 2.4000e+01 2.4000e+01]\n",
      " [4.6900e+03 4.6480e+03 4.5770e+03 4.7810e+03]\n",
      " [7.0570e+03 7.6070e+03 7.7750e+03 8.1050e+03]\n",
      " [6.2220e+03 6.3650e+03 6.4870e+03 6.3840e+03]\n",
      " [3.1093e+04 3.1267e+04 3.1639e+04 3.1760e+04]\n",
      " [2.9121e+04 2.9021e+04 2.8867e+04 2.8805e+04]\n",
      " [3.3150e+04 3.3400e+04 3.3444e+04 3.3623e+04]\n",
      " [2.5203e+04 2.6045e+04 2.6464e+04 2.7014e+04]\n",
      " [5.1000e+01 5.7000e+01 6.1000e+01 7.6000e+01]\n",
      " [1.6142e+04 1.6432e+04 1.7122e+04 1.7799e+04]\n",
      " [4.0000e+00 7.0000e+00 7.0000e+00 7.0000e+00]\n",
      " [2.8867e+04 2.8805e+04 2.8667e+04 2.8693e+04]\n",
      " [3.2156e+04 3.2366e+04 3.2670e+04 3.2992e+04]\n",
      " [3.4656e+04 3.4577e+04 3.4782e+04 3.4906e+04]\n",
      " [4.0000e+00 4.0000e+00 4.0000e+00 4.0000e+00]\n",
      " [2.7936e+04 2.8274e+04 2.8628e+04 2.8919e+04]\n",
      " [3.4064e+04 3.3670e+04 3.3666e+04 3.3576e+04]]\n",
      "[[3.4350e+04 3.4064e+04 3.3670e+04 3.3666e+04]\n",
      " [1.7700e+02 1.9700e+02 2.5100e+02 3.3600e+02]\n",
      " [6.7420e+03 4.7900e+03 4.6840e+03 4.6900e+03]\n",
      " [6.5800e+03 6.6790e+03 6.7420e+03 4.7900e+03]\n",
      " [3.1810e+04 3.1925e+04 3.2156e+04 3.2366e+04]\n",
      " [2.7671e+04 2.7572e+04 2.7449e+04 2.7481e+04]\n",
      " [4.8700e+03 4.8290e+03 4.8680e+03 4.8910e+03]\n",
      " [3.4577e+04 3.4782e+04 3.4906e+04 3.5001e+04]\n",
      " [4.4350e+03 4.7920e+03 5.0780e+03 5.2280e+03]\n",
      " [2.7371e+04 2.8899e+04 3.0575e+04 2.0709e+04]\n",
      " [2.7532e+04 2.7601e+04 4.1410e+03 4.2370e+03]\n",
      " [6.1000e+01 7.6000e+01 7.6000e+01 1.0100e+02]\n",
      " [2.8628e+04 2.8919e+04 2.9347e+04 3.0884e+04]\n",
      " [4.8640e+03 5.6750e+03 6.2800e+03 7.1980e+03]\n",
      " [6.6790e+03 6.7420e+03 4.7900e+03 4.6840e+03]\n",
      " [6.3930e+03 6.5370e+03 7.0300e+03 6.8680e+03]\n",
      " [1.6432e+04 1.7122e+04 1.7799e+04 1.7916e+04]\n",
      " [5.2790e+03 5.4520e+03 5.5560e+03 5.6660e+03]\n",
      " [7.0000e+00 7.0000e+00 7.0000e+00 8.0000e+00]\n",
      " [4.0000e+00 4.0000e+00 4.0000e+00 4.0000e+00]\n",
      " [9.0000e+00 9.0000e+00 1.0000e+01 1.1000e+01]\n",
      " [3.3400e+04 3.3444e+04 3.3623e+04 3.3948e+04]\n",
      " [2.1129e+04 2.1276e+04 2.1988e+04 2.2151e+04]\n",
      " [2.9811e+04 2.9582e+04 2.9424e+04 2.9280e+04]\n",
      " [2.0670e+03 2.7650e+03 3.3740e+03 3.7740e+03]\n",
      " [9.0000e+00 1.0000e+01 1.1000e+01 1.2000e+01]]\n",
      "[[1.2000e+01 1.3000e+01 1.3000e+01 1.5000e+01]\n",
      " [3.4906e+04 3.5001e+04 3.4760e+04 3.4640e+04]\n",
      " [2.8919e+04 2.9347e+04 3.0884e+04 3.0901e+04]\n",
      " [5.1590e+03 5.6040e+03 5.6860e+03 5.7380e+03]\n",
      " [1.7517e+04 1.8854e+04 2.0256e+04 2.1579e+04]\n",
      " [2.9347e+04 3.0884e+04 3.0901e+04 3.1010e+04]\n",
      " [6.0570e+03 6.2160e+03 6.3930e+03 6.5370e+03]\n",
      " [4.0000e+00 4.0000e+00 4.0000e+00 4.0000e+00]\n",
      " [6.4870e+03 6.3840e+03 6.4370e+03 6.4890e+03]\n",
      " [1.3416e+04 1.3933e+04 1.4490e+04 1.4866e+04]\n",
      " [1.3900e+02 1.7700e+02 1.9700e+02 2.5100e+02]\n",
      " [3.1760e+04 3.1881e+04 3.1994e+04 3.1946e+04]\n",
      " [2.9582e+04 2.9424e+04 2.9280e+04 2.9121e+04]\n",
      " [3.3576e+04 3.3184e+04 3.2526e+04 3.1878e+04]\n",
      " [4.3800e+03 4.8640e+03 5.6750e+03 6.2800e+03]\n",
      " [1.8954e+04 1.9741e+04 2.0372e+04 2.0543e+04]\n",
      " [3.4658e+04 3.4539e+04 3.4350e+04 3.4064e+04]\n",
      " [2.7524e+04 2.7518e+04 2.7532e+04 2.7601e+04]\n",
      " [3.7740e+03 4.3800e+03 4.8640e+03 5.6750e+03]\n",
      " [2.1988e+04 2.2151e+04 2.2783e+04 2.3481e+04]\n",
      " [1.4490e+04 1.4866e+04 1.5636e+04 1.6142e+04]\n",
      " [2.5100e+02 3.3600e+02 4.3200e+02 5.8800e+02]\n",
      " [3.3623e+04 3.3948e+04 3.4277e+04 3.4515e+04]\n",
      " [1.5000e+01 2.4000e+01 2.4000e+01 3.3000e+01]\n",
      " [2.8805e+04 2.8667e+04 2.8693e+04 2.8560e+04]\n",
      " [3.4539e+04 3.4350e+04 3.4064e+04 3.3670e+04]\n",
      " [2.8274e+04 2.8628e+04 2.8919e+04 2.9347e+04]]\n"
     ]
    }
   ],
   "source": [
    "# Custom Modeling\n",
    "def split_train_test_val(data, window_size):\n",
    "    ws = window_size + 1\n",
    "    x_data = data[:-1]\n",
    "    \n",
    "    x_data = np.reshape(x_data, (-1,1))\n",
    "    temp_data = np.roll(x_data, -1)\n",
    "    for x in range(1, ws):\n",
    "        # Stack\n",
    "        x_data = np.concatenate((x_data[:-1], temp_data[:-1]), 1)\n",
    "        # Step, roll left by 1\n",
    "        temp_data = np.roll(temp_data, -1)[:-1]\n",
    "    \n",
    "    # Divide into train,test,val sets\n",
    "    # Shuffle rows then take first 80% as train, next 10% as test and remainder as val\n",
    "    # Equivalent to random sampling\n",
    "    np.random.shuffle(x_data)\n",
    "    ntrain,ntest = int(0.8*len(x_data)), int(0.1*len(x_data))\n",
    "    \n",
    "    train = x_data[:ntrain]\n",
    "    test = x_data[ntrain:ntrain+ntest]\n",
    "    val = x_data[ntrain+ntest:]\n",
    "    \n",
    "    return train, test, val\n",
    "\n",
    "train,test,val = split_train_test_val(test_data.values, 3)\n",
    "print(train)\n",
    "print(test)\n",
    "print(val)"
   ]
  },
  {
   "cell_type": "code",
   "execution_count": 40,
   "metadata": {},
   "outputs": [],
   "source": [
    "def split_xy(data):\n",
    "    return data[:,:-1], data[:,-1]\n",
    "\n",
    "x_train, y_train = split_xy(train)\n",
    "x_test, y_test = split_xy(test)\n",
    "x_val, y_val = split_xy(val)"
   ]
  },
  {
   "cell_type": "code",
   "execution_count": 41,
   "metadata": {},
   "outputs": [
    {
     "data": {
      "text/plain": [
       "LinearRegression()"
      ]
     },
     "execution_count": 41,
     "metadata": {},
     "output_type": "execute_result"
    }
   ],
   "source": [
    "model = LinearRegression()\n",
    "model.fit(x_train,y_train)"
   ]
  },
  {
   "cell_type": "code",
   "execution_count": 42,
   "metadata": {},
   "outputs": [
    {
     "data": {
      "text/plain": [
       "<matplotlib.legend.Legend at 0x23effecddc0>"
      ]
     },
     "execution_count": 42,
     "metadata": {},
     "output_type": "execute_result"
    },
    {
     "data": {
      "image/png": "[encoded data removed]",
      "text/plain": [
       "<Figure size 432x288 with 1 Axes>"
      ]
     },
     "metadata": {
      "needs_background": "light"
     },
     "output_type": "display_data"
    }
   ],
   "source": [
    "y_preds = model.predict(x_test)\n",
    "plt.plot(y_preds, label='preds')\n",
    "plt.plot(y_test, label='actual')\n",
    "plt.legend()"
   ]
  },
  {
   "cell_type": "code",
   "execution_count": 47,
   "metadata": {},
   "outputs": [
    {
     "data": {
      "text/plain": [
       "[<matplotlib.lines.Line2D at 0x23efff5d4f0>]"
      ]
     },
     "execution_count": 47,
     "metadata": {},
     "output_type": "execute_result"
    },
    {
     "data": {
      "image/png": "[encoded data removed]",
      "text/plain": [
       "<Figure size 432x288 with 1 Axes>"
      ]
     },
     "metadata": {
      "needs_background": "light"
     },
     "output_type": "display_data"
    }
   ],
   "source": [
    "plt.plot(np.abs(y_preds-y_test))"
   ]
  },
  {
   "cell_type": "code",
   "execution_count": 51,
   "metadata": {},
   "outputs": [
    {
     "name": "stdout",
     "output_type": "stream",
     "text": [
      "613368.1690609871\n"
     ]
    }
   ],
   "source": [
    "print(np.mean(np.abs(y_preds-y_test))) # mean absolute error\n",
    "print(np.mean(np.power(y_preds-y_test,2))) # mean squared error"
   ]
  },
  {
   "cell_type": "code",
   "execution_count": null,
   "metadata": {},
   "outputs": [],
   "source": []
  }
 ],
 "metadata": {
  "kernelspec": {
   "display_name": "Python 3",
   "language": "python",
   "name": "python3"
  },
  "language_info": {
   "codemirror_mode": {
    "name": "ipython",
    "version": 3
   },
   "file_extension": ".py",
   "mimetype": "text/x-python",
   "name": "python",
   "nbconvert_exporter": "python",
   "pygments_lexer": "ipython3",
   "version": "3.6.6"
  }
 },
 "nbformat": 4,
 "nbformat_minor": 4
}
